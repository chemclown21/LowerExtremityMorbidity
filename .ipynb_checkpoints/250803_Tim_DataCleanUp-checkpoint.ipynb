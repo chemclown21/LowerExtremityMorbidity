{
 "cells": [
  {
   "cell_type": "markdown",
   "id": "218019e0-82e7-4933-8d29-192696a57b76",
   "metadata": {},
   "source": [
    "# NTDS Data Clean Up\n",
    "by Vitto Resnick, UCSF, 2025"
   ]
  },
  {
   "cell_type": "markdown",
   "id": "3e33de14-62da-4dc9-8059-9a3c5bcf22e0",
   "metadata": {
    "jp-MarkdownHeadingCollapsed": true
   },
   "source": [
    "## Import Necessary Dependencies/Packages \\& Define Utilities/Functions"
   ]
  },
  {
   "cell_type": "code",
   "execution_count": 113,
   "id": "d495eca0-b381-422e-ac6a-86f30678d7e4",
   "metadata": {},
   "outputs": [
    {
     "name": "stdout",
     "output_type": "stream",
     "text": [
      "Requirement already satisfied: icd10-cm in /opt/anaconda3/lib/python3.12/site-packages (0.0.5)\n",
      "Note: you may need to restart the kernel to use updated packages.\n"
     ]
    }
   ],
   "source": [
    "#Install this once (this is used to call info on icd10 codes)\n",
    "pip install icd10-cm"
   ]
  },
  {
   "cell_type": "code",
   "execution_count": 125,
   "id": "c9fafb1f-c122-4f84-88b9-37de69c6fd7e",
   "metadata": {},
   "outputs": [],
   "source": [
    "#Import necessary dependencies\n",
    "import numpy as np\n",
    "import pandas as pd\n",
    "import icd10\n",
    "\n",
    "def csc(str): #comma-separated codes to list 'S32.52,S82.90' -> ['S32.52','S82.90']\n",
    "    list_of_codes = []\n",
    "    if not \",\" in str:\n",
    "        list_of_codes.append(str)\n",
    "    else:\n",
    "        list_of_codes=str.split(',')\n",
    "    return list_of_codes\n",
    "\n",
    "def find_unique_codes(list,search_term,n = None): #n characters to include #this is just used for my dbugging & querying icds\n",
    "    unique_codes = []\n",
    "    for patient in range(len(list)):\n",
    "        if isinstance(list[patient],str):\n",
    "            #print(list[patient])\n",
    "            this_patients_codes = csc(list[patient])\n",
    "            for code in range(len(this_patients_codes)):\n",
    "                if (not this_patients_codes[code][:n] in unique_codes) and (search_term in this_patients_codes[code]):\n",
    "                    unique_codes.append(this_patients_codes[code][:n])\n",
    "        else:\n",
    "            continue\n",
    "    return unique_codes\n",
    "\n",
    "def print_diagnoses(list_of_codes): #this is just used for my dbugging & querying icds\n",
    "    sd_list = sorted(list_of_codes)\n",
    "    unique_diagnoses = []\n",
    "\n",
    "    for i in range(len(sd_list)):\n",
    "        #print(sd_unique[i])\n",
    "        try:\n",
    "            code = sd_list[i]\n",
    "            diagnosis = icd10.find(code).description\n",
    "        except:\n",
    "            try:\n",
    "                code = sd_list[i][:7]\n",
    "                diagnosis = icd10.find(code).description\n",
    "            except:\n",
    "                try:\n",
    "                    code = sd_list[i][:6]\n",
    "                    diagnosis = icd10.find(code).description\n",
    "                except:\n",
    "                    try:\n",
    "                        code = sd_list[i][:5]\n",
    "                        diagnosis = icd10.find(code).description\n",
    "                    except:\n",
    "                        try:\n",
    "                            code = sd_list[i][:3]\n",
    "                            diagnosis = icd10.find(code).description\n",
    "                        except:\n",
    "                            print(\"cant find this code!\")\n",
    "        \n",
    "        if not diagnosis in unique_diagnoses:\n",
    "            unique_diagnoses.append(diagnosis)\n",
    "            print(code,\": \",diagnosis)\n",
    "        \n",
    "        #if not \"racture\" in diagnosis:\n",
    "        #    print(\"This diagnosis doesnt have the word fracture! - \",diagnosis)\n",
    "    \n",
    "    #print(\"These are all of the unique diagnoses\")\n",
    "    #print(unique_diagnoses)\n",
    "\n",
    "#try this code if you want an example of what I was doing this for. 3 means you only look at the part of codes before the period\n",
    "#current = sorted(find_unique_codes(list(df['primaryecodeicd10'].unique()),\"\",3))\n",
    "#print_diagnoses(current)\n",
    "\n",
    "def anycomp(list): #any complications in this list of booleans?  [0 0 0 0] false [0 0 1 0] true\n",
    "    N = 0\n",
    "    for i in range(len(list)):\n",
    "        if list[i] == 'Yes' or list[i] == 'True' or list[i] == True or list[i] == '1' or list[i] == 1:\n",
    "            N+=1\n",
    "        elif list[i] == 'No' or list[i] == 'False' or list[i] == False or list[i] == '0' or list[i] == 0:\n",
    "            N+=0\n",
    "    if N>=1:\n",
    "        return True\n",
    "    else:\n",
    "        return False\n",
    "\n",
    "def progressbar(progress,total): #animation to see speed of processing\n",
    "    percent = 100*(progress/float(total))\n",
    "    bar='█'*int(percent)+'-'*(100-int(percent))\n",
    "    print(f\"\\r|{bar}|{percent:.2f}%\",end=\"\\r\")"
   ]
  },
  {
   "cell_type": "markdown",
   "id": "545d9594-6326-449d-ad71-cbf2db00178b",
   "metadata": {
    "jp-MarkdownHeadingCollapsed": true
   },
   "source": [
    "## Define ICD10 Code Cateogories"
   ]
  },
  {
   "cell_type": "code",
   "execution_count": 127,
   "id": "30db7061-4b8d-4eab-a172-bab026535971",
   "metadata": {},
   "outputs": [],
   "source": [
    "#Categories of LE Injury\n",
    "#the \"sharfman_..._...\" lists are names of the new columns to be added\n",
    "#the LE_ and UE_ dictionaries take an icd10 prefix and direct which column to assign true for a given patient\n",
    "\n",
    "#S32: Fracture of lumbar spine and pelvis\n",
    "sharfman_LE_S32 = ['Fracture of acetabulum',                                      #S32.4 Fracture of acetabulum\n",
    "                   'Fracture of pubis',                                           #S32.5 Fracture of pubis\n",
    "                   'Fracture of ilium',                                           #S32.3 Fracture of ilium\n",
    "                   'Fracture of ischium',                                         #S32.6 Fracture of ischium\n",
    "                   'Fracture of pelvis multiple w/ disruption of pelvic circle',  #S32.81 Multiple fractures of pelvis with disruption of pelvic ring\n",
    "                   'Fracture of pelvis without disruption of pelvic circle',      #S32.82 Multiple fractures of pelvis without disruption of pelvic ring\n",
    "                   'Fracture of pelvis, other']                                   #S32.88 Fracture of other parts of pelvis - no desc\n",
    "                                                                                  #S32.89 Fracture of other parts of pelvis\n",
    "                                                                                  #S32.9  Fracture of unspecified parts of lumbosacral spine and pelvis\n",
    "\n",
    "LE_dict =      dict.fromkeys(['S32.4']                          , 'Fracture of acetabulum')\n",
    "LE_dict.update(dict.fromkeys(['S32.5']                          , 'Fracture of pubis'))\n",
    "LE_dict.update(dict.fromkeys(['S32.3']                          , 'Fracture of ilium'))\n",
    "LE_dict.update(dict.fromkeys(['S32.6']                          , 'Fracture of ischium'))\n",
    "LE_dict.update(dict.fromkeys(['S32.81']                         , 'Fracture of pelvis multiple w/ disruption of pelvic circle'))\n",
    "LE_dict.update(dict.fromkeys(['S32.82']                         , 'Fracture of pelvis without disruption of pelvic circle'))\n",
    "LE_dict.update(dict.fromkeys(['S32.88','S32.89','S32.9','S32.8'], 'Fracture of pelvis, other'))\n",
    "\n",
    "\n",
    "#S72: Fracture of femur\n",
    "sharfman_LE_S72 = ['Fracture of femoral neck',         #S72.00 Fracture of unspecified part of neck of femur\n",
    "                                                       #S72.01 Unspecified intracapsular fracture of femur\n",
    "                                                       #S72.02 Fracture of epiphysis (separation) (upper) of femur\n",
    "                                                       #S72.03 Midcervical fracture of femur\n",
    "                                                       #S72.04 Fracture of base of neck of femur\n",
    "                   'Fracture of other parts of femur'] #S72.05 Unspecified fracture of head of femur\n",
    "                                                       #S72.06 Articular fracture of head of femur\n",
    "                                                       #S72.08 Fracture of head and neck of femur - no desc\n",
    "                                                       #S72.09 Other fracture of head and neck of femur\n",
    "                                                       #S72.1  Pertrochanteric fracture\n",
    "                                                       #S72.2  Subtrochanteric fracture of femur\n",
    "                                                       #S72.3  Fracture of shaft of femur\n",
    "                                                       #S72.4  Fracture of lower end of femur\n",
    "                                                       #S72.8  Other fracture of femur\n",
    "                                                       #S72.9  Unspecified fracture of femur\n",
    "LE_dict.update(dict.fromkeys(['S72.00','S72.01','S72.02','S72.03','S72.04'], 'Fracture of femoral neck'))\n",
    "LE_dict.update(dict.fromkeys(['S72.05','S72.06','S72.08','S72.09','S72.1',\n",
    "                             'S72.2','S72.3','S72.4','S72.8','S72.9'], 'Fracture of other parts of femur'))\n",
    "\n",
    "#S82: Fracture of lower leg, including ankle\n",
    "sharfman_LE_S82 = ['Fracture of patella',###############S82.0 Fracture of patella\n",
    "                   'Fracture of tibia and fibula',######S82.1 Fracture of upper end of tibia\n",
    "                                                       #S82142A Bicondylar fracture of tibia\n",
    "                                                       #S82.2 Fracture of shaft of tibia\n",
    "                                                       #S82.3 Fracture of lower end of tibia\n",
    "                   \n",
    "                                                       #S89.0 Physeal fracture of upper end of tibia\n",
    "                                                       #S89.1 Physeal fracture of lower end of tibia\n",
    "                                                       #S89.2 Physeal fracture of upper end of fibula\n",
    "                                                       #S89.3 Physeal fracture of lower end of fibula\n",
    "                   \n",
    "                                                       #S82.87 Pilon fracture of tibia\n",
    "                   \n",
    "                                                       #S82.4 Fracture of shaft of fibula\n",
    "                   \n",
    "                                                       #S82.81 Torus fracture of upper end of fibula\n",
    "                                                       #S82.82 Torus fracture of lower end of fibula\n",
    "                                                       #S82.83 Other fracture of upper and lower end of fibula\n",
    "                                                       #S82.86 Maisonneuve's fracture\n",
    "                   \n",
    "                   'Fracture of ankle']#################S82.5 Fracture of medial malleolus\n",
    "                                                       #S82.6 Fracture of lateral malleolus\n",
    "                                                       #S82.84 Bimalleolar fracture of lower leg\n",
    "                                                       #S82.85 Trimalleolar fracture of lower leg\n",
    "LE_dict.update(dict.fromkeys(['S82.0'],                                              'Fracture of patella'))\n",
    "LE_dict.update(dict.fromkeys(['S82.1','S82142A','S82.2','S82.3',\n",
    "                              'S89.0','S89.1','S89.2','S89.3',\n",
    "                              'S82.87','S82.4','S82.81','S82.82','S82.83','S82.86'], 'Fracture of tibia and fibula'))\n",
    "LE_dict.update(dict.fromkeys(['S82.5','S82.6','S82.84','S82.85'],                    'Fracture of ankle'))\n",
    "\n",
    "\n",
    "#S92: Fracture of foot and toe, except ankle\n",
    "#S89: Other and unspecified injuries of lower leg\n",
    "sharfman_LE_other = ['Fracture of LE, other']     #S82.88 Other fractures of lower leg - No desc\n",
    "                                                  #S82.89 Other fractures of lower leg\n",
    "                                                  #S82.9 Unspecified fracture of lower leg\n",
    "                                                  #S92: Fracture of foot and toe, except ankle\n",
    "                                                  #S89.8: Other specified injuries of lower leg\n",
    "                                                  #S89.9: Unspecified injury of lower leg\n",
    "LE_dict.update(dict.fromkeys(['S82.88','S82.89','S82.9','S92','S89.8','S89.9'], 'Fracture of LE, other'))\n",
    "\n",
    "#List of columns to add\n",
    "sharfman_LE = sharfman_LE_S32 + sharfman_LE_S72 + sharfman_LE_S82 + sharfman_LE_other"
   ]
  },
  {
   "cell_type": "code",
   "execution_count": 129,
   "id": "4a9fa3ab-e351-4a2d-96e1-2f26c7ebe67a",
   "metadata": {},
   "outputs": [],
   "source": [
    "#Categories of UE Injury\n",
    "#the \"sharfman_..._...\" lists are names of the new columns to be added\n",
    "#the LE_ and UE_ dictionaries take an icd10 prefix and direct which column to assign true for a given patient\n",
    "\n",
    "#S42: Fracture of shoulder and upper arm\n",
    "sharfman_UE_S42 = ['Fracture of clavicle',        #S42.0 Fracture of clavicle\n",
    "                   'Fracture of scapula',         #S42.1 Fracture of scapula\n",
    "                   'Fracture of humerus']         #S42.2 Fracture of upper end of humerus\n",
    "                                                  #S42.3 Fracture of shaft of humerus\n",
    "                                                  #S42.4 Fracture of lower end of humerus\n",
    "#S52: Fracture of forearm\n",
    "sharfman_UE_S52 = ['Fracture of radius and ulna'] #S52 Fracture of forearm\n",
    "#S62: Fracture at wrist and hand level\n",
    "sharfman_UE_S62 = ['Fracture of Carpal bones']    #S62 Fracture at wrist and hand level\n",
    "\n",
    "sharfman_UE_other = ['Fracture of UE, other']        #S42.9 Fracture of shoulder girdle, part unspecified\n",
    "\n",
    "UE_dict =      dict.fromkeys(['S42.0']                 , 'Fracture of clavicle')\n",
    "UE_dict.update(dict.fromkeys(['S42.1']                 , 'Fracture of scapula'))\n",
    "UE_dict.update(dict.fromkeys(['S42.2', 'S42.3','S42.4'], 'Fracture of humerus'))\n",
    "UE_dict.update(dict.fromkeys(['S52']                   , 'Fracture of radius and ulna'))\n",
    "UE_dict.update(dict.fromkeys(['S62']                   , 'Fracture of Carpal bones'))\n",
    "UE_dict.update(dict.fromkeys(['S42.9']                 , 'Fracture of UE, other'))\n",
    "\n",
    "sharfman_UE = sharfman_UE_S42+sharfman_UE_S52+sharfman_UE_S62+sharfman_UE_other"
   ]
  },
  {
   "cell_type": "code",
   "execution_count": 131,
   "id": "42abddf5-991a-411b-86f5-0eeb096d8434",
   "metadata": {},
   "outputs": [],
   "source": [
    "#True for \"fall on same level - other\" #not this only accounts for mechanism codes that begin with W (only ones pertaining to falls)\n",
    "fall_same_level = [\n",
    "\"W00.0\",#:  Fall on same level due to ice and snow\n",
    "\"W01\",  #:  Fall on same level from slipping, tripping and stumbling\n",
    "\"W03\"   #:  Other fall on same level due to collision with another person\n",
    "         ]\n",
    "\n",
    "other_falls = [\n",
    "\"W00.1\",#:  Fall from stairs and steps due to ice and snow\n",
    "\"W00.2\",#:  Other fall from one level to another due to ice and snow\n",
    "\"W00.9\",#:  Unspecified fall due to ice and snow\n",
    "\"W04\",#:  Fall while being carried or supported by other persons\n",
    "\"W05\",#:  Fall from non-moving wheelchair, nonmotorized scooter and motorized mobility scooter\n",
    "\"W06\",#:  Fall from bed\n",
    "\"W07\",#:  Fall from chair\n",
    "\"W08\",#:  Fall from other furniture\n",
    "\"W09\",#:  Fall on and from playground equipment\n",
    "\"W10\",#:  Fall on and from stairs and steps\n",
    "\"W11\",#:  Fall on and from ladder\n",
    "\"W12\",#:  Fall on and from scaffolding\n",
    "\"W13\",#:  Fall from, out of or through building or structure\n",
    "\"W14\",#:  Fall from tree\n",
    "\"W15\",#:  Fall from cliff\n",
    "\"W16\",#:  Fall, jump or diving into water\n",
    "\"W17\",#:  Other fall from one level to another\n",
    "\"W18\",#:  Other slipping, tripping and stumbling and falls\n",
    "\"W19\",#:  Unspecified fall\n",
    "\"V00.8\"#: Fall from moving wheelchair (powered), initial encounter\n",
    "]\n",
    "\n",
    "for_sure_reject = [\n",
    "\"W20\",#:  Struck by thrown, projected or falling object\n",
    "\"W21\",#:  Striking against or struck by sports equipment\n",
    "\"W22\",#:  Striking against or struck by other objects\n",
    "\"W23\",#:  Caught, crushed, jammed or pinched in or between objects\n",
    "\"W24\",#:  Contact with lifting and transmission devices, not elsewhere classified\n",
    "\"W25\",#:  Contact with sharp glass\n",
    "\"W26\",#:  Contact with other sharp objects\n",
    "\"W27\",#:  Contact with nonpowered hand tool\n",
    "\"W28\",#:  Contact with powered lawn mower\n",
    "\"W29\",#:  Contact with other powered hand tools and household machinery\n",
    "\"W30\",#:  Contact with agricultural machinery\n",
    "\"W31\",#:  Contact with other and unspecified machinery\n",
    "\"W32\",#:  Accidental handgun discharge and malfunction\n",
    "\"W33\",#:  Accidental rifle, shotgun and larger firearm discharge and malfunction\n",
    "\"W34\",#:  Accidental discharge and malfunction from other and unspecified firearms and guns\n",
    "\"W36\",#:  Explosion and rupture of gas cylinder\n",
    "\"W37\",#:  Explosion and rupture of pressurized tire, pipe or hose\n",
    "\"W38\",#:  Explosion and rupture of other specified pressurized devices\n",
    "\"W39\",#:  Discharge of firework\n",
    "\"W40\",#:  Explosion of other materials\n",
    "\"W45\",#:  Foreign body or object entering through skin\n",
    "\"W49\",#:  Exposure to other inanimate mechanical forces\n",
    "\"W50\",#:  Accidental hit, strike, kick, twist, bite or scratch by another person\n",
    "\"W51\",#:  Accidental striking against or bumped into by another person\n",
    "\"W52\",#:  Crushed, pushed or stepped on by crowd or human stampede\n",
    "\"W54\",#:  Contact with dog\n",
    "\"W55\",#:  Contact with other mammals\n",
    "\"W56\",#:  Contact with nonvenomous marine animal\n",
    "\"W57\",#:  Bitten or stung by nonvenomous insect and other nonvenomous arthropods\n",
    "\"W58\",#:  Contact with crocodile or alligator\n",
    "\"W59\",#:  Contact with other nonvenomous reptiles\n",
    "\"W60\",#:  Contact with nonvenomous plant thorns and spines and sharp leaves\n",
    "\"W61\",#:  Contact with birds (domestic) (wild)\n",
    "\"W64\",#:  Exposure to other animate mechanical forces\n",
    "\"W85\",#:  Exposure to electric transmission lines\n",
    "\"W86\",#:  Exposure to other specified electric current\n",
    "\"W94\"]#:  Exposure to high and low air pressure and changes in air pressure\n",
    "\n",
    "fall_same_level_dict =      dict.fromkeys(fall_same_level            ,True)\n",
    "fall_same_level_dict.update(dict.fromkeys(other_falls+for_sure_reject,False))\n",
    "fall_dict =      dict.fromkeys(fall_same_level+other_falls, True)\n",
    "fall_dict.update(dict.fromkeys(for_sure_reject            ,False))"
   ]
  },
  {
   "cell_type": "markdown",
   "id": "4fa5e1d3-3c5b-4852-a3ca-d0b1557e1952",
   "metadata": {
    "jp-MarkdownHeadingCollapsed": true
   },
   "source": [
    "## Import Data \\& Add New Columns"
   ]
  },
  {
   "cell_type": "code",
   "execution_count": 149,
   "id": "6fdf4562-ed61-40b1-97e5-269523a02fa6",
   "metadata": {},
   "outputs": [],
   "source": [
    "#Plan\n",
    "#Race - sep columns, remove Unknown - DONE\n",
    "#Sex - sep columns, remove nan - DONE\n",
    "#Fracture Type - sep columns - DONE but check if needed - acc. Tim SKIP\n",
    "#Payment Method - sep columns, remove nan -  DONE\n",
    "#GCS - check for unknowns - DONE\n",
    "#Fall on the same level other - DONE\n",
    "#Mechanism - TO DO\n",
    "#ISS - T/F for each of 3 ranges - acc. Tim SKIP \n",
    "#Hospital Discharge - Discharge to inpatient rehab T/F - DONE\n",
    "#ICU Days - longer than 3 days T/F - DONE\n",
    "#New col: any complications T/F - DONE\n",
    "#Remove nan/unknown patients - DONE\n",
    "#Decode diagnoses + new columns - DONE"
   ]
  },
  {
   "cell_type": "code",
   "execution_count": 137,
   "id": "61131386-b1f4-42b8-9da2-a95ecc001eb7",
   "metadata": {},
   "outputs": [
    {
     "name": "stderr",
     "output_type": "stream",
     "text": [
      "/var/folders/df/bkrdvvkx4gv6xg_gbdp7x9x80000gr/T/ipykernel_42631/4271518932.py:1: DtypeWarning: Columns (4,5,7,9,16,17,20,22,23,24,25,26,27,29,30,31,32,33,34,35,36,37,39,40,42,43,44,45,46,47,48,49,50,51,52,53,54,55,56,57,58,59,60,61,62,63,64,65,66,67,68,77) have mixed types. Specify dtype option on import or set low_memory=False.\n",
      "  df = pd.read_csv('geriatric_processed_data_17_23.csv')\n"
     ]
    },
    {
     "name": "stdout",
     "output_type": "stream",
     "text": [
      "['inc_key', 'LE_Dcode', 'UE_Dcode', 'Fracture Type', 'Fracture of acetabulum', 'Fracture of pubis', 'Fracture of ilium', 'Fracture of ischium', 'Fracture of pelvis multiple w/ disruption of pelvic circle', 'Fracture of pelvis without disruption of pelvic circle', 'Fracture of pelvis, other', 'Fracture of femoral neck', 'Fracture of other parts of femur', 'Fracture of patella', 'Fracture of tibia and fibula', 'Fracture of ankle', 'Fracture of LE, other', 'Fracture of clavicle', 'Fracture of scapula', 'Fracture of humerus', 'Fracture of radius and ulna', 'Fracture of Carpal bones', 'Fracture of UE, other', 'TEACHINGSTATUS', 'HOSPITALTYPE', 'Race Complete', 'Race-White', 'Race-Black', 'Race-Other', 'Hispanic', 'BEDSIZE', 'VERIFICATIONLEVEL', 'SEX', 'Sex-Male', 'Sex-Female', 'Sex-Nonbinary', 'GCS', 'primaryecodeicd10', 'fall on same level - other', 'any fall', 'ecode_desc', 'mechanism', 'ISS', 'primarymethodpayment', 'Payment-Medicare', 'Payment-Private/Commercial Insurance', 'Payment-Medicaid', 'Payment-Other Government', 'Payment-Self-Pay', 'Payment-Other', 'Payment-Not Billed (for any reason)', 'eddischargedisposition', 'hospdischargedisposition', 'discharge_to_rehab', 'totaliculos', 'long_ICU', 'finaldischargedays', 'Attention Deficit Hyperactivity Disorder', 'Advanced Directive Limiting Care', 'Alcohol Use Disorder', 'Angina Pectoris', 'Anticoagulant Therapy', 'Bleeding Disorder', 'Currently Receiving Chemotherapy for Cancer', 'Cirrhosis', 'Congenital Anomalies', 'Chronic Obstructive Pulmonary Disease', 'Cerebrovascular Accident', 'Dementia', 'Diabetes Mellitus', 'Disseminated Cancer', 'Functionaly Dependent Health Status', 'Congestive Heart Failure', 'Hypertension', 'Myocardial Infarction_pc', 'Other_pc', 'Peripheral Arterial Disease', 'Prematurity', 'Mental/Personality Disorder', 'Chronic Renal Failure', 'Current Smoker', 'Steroid Use', 'Substance Abuse Disorder', 'Central Line-associated Bloodstream Infection', 'Deep Surgical Site Infection', 'Deep Vein Thrombosis', 'Alcohol Withdrawal Syndrome', 'Cardiac Arrest', 'Catheter-Associated Urinary Tract Infection', 'Pulmonary Embolism', 'Extremity Compartment Syndrome', 'Unplanned Intubation', 'Acute Kidney Injury', 'Myocardial Infarction_hc', 'Organ/Space SSI', 'Osteomyelitis', 'Other_hc', 'ARDS', 'Unplanned Visit to OR', 'Severe Sepsis', 'Stroke/CVA', 'Superficial Incisional SSI', 'Pressure Ulcer', 'Unplanned admission to ICU', 'Ventilator-Associated Pneumonia', 'Any Complications', 'Bedsize', 'iss', 'Pregnancy', 'Bipolar I/II Disorder', 'Major Depressive Disorder', 'Other Mental/Personality Disorder', 'Post-Traumatic Stress Disorder', 'Schizoaffective Disorder', 'Schizophrenia', 'Delirium', 'mFI_5']\n"
     ]
    }
   ],
   "source": [
    "df = pd.read_csv('geriatric_processed_data_17_23.csv')\n",
    "N = len(df)\n",
    "\n",
    "#Insert new columns\n",
    "for i in range(len(sharfman_LE)): #sharfman labels for LE fractures\n",
    "    df.insert(4+i,sharfman_LE[i],False)\n",
    "\n",
    "for i in range(len(sharfman_UE)): #sharfman labels for UE fractures\n",
    "    df.insert(4+len(sharfman_LE)+i,sharfman_UE[i],False)\n",
    "\n",
    "#fracture_groups = [\"ILE\",\"MLE\",\"ULE\"] #this is to add new T/F columns for ILE, MLE, ULE\n",
    "#for i in range(len(fracture_groups)):\n",
    "#    df.insert(df.columns.get_loc(\"Fracture Type\")+1+i,fracture_groups[i],False)\n",
    "\n",
    "#df.insert(df.columns.get_loc(\"Race Complete\")+1,\"Race Filtered\",\"Other\")\n",
    "races = [\"Race-White\",\"Race-Black\",\"Race-Other\",\"Hispanic\"]\n",
    "for i in range(len(races)):\n",
    "    df.insert(df.columns.get_loc(\"Race Complete\")+1+i,races[i],False)\n",
    "\n",
    "sexes = [\"Sex-Male\",\"Sex-Female\",\"Sex-Nonbinary\"]\n",
    "for i in range(len(sexes)):\n",
    "    df.insert(df.columns.get_loc(\"SEX\")+1+i,sexes[i],False)\n",
    "\n",
    "df.insert(df.columns.get_loc(\"primaryecodeicd10\")+1,\"fall on same level - other\",False)\n",
    "df.insert(df.columns.get_loc(\"primaryecodeicd10\")+2,\"any fall\",False)\n",
    "    \n",
    "payment_methods = ['Payment-Medicare','Payment-Private/Commercial Insurance','Payment-Medicaid','Payment-Other Government','Payment-Self-Pay','Payment-Other','Payment-Not Billed (for any reason)']\n",
    "for i in range(len(payment_methods)):\n",
    "    df.insert(df.columns.get_loc(\"primarymethodpayment\")+1+i,payment_methods[i],False)\n",
    "\n",
    "df.insert(df.columns.get_loc(\"hospdischargedisposition\")+1,\"discharge_to_rehab\",False)\n",
    "\n",
    "df.insert(df.columns.get_loc(\"totaliculos\")+1,\"long_ICU\",False)\n",
    "\n",
    "df.insert(df.columns.get_loc(\"Ventilator-Associated Pneumonia\")+1,\"Any Complications\",False)\n",
    "\n",
    "print(df.columns.tolist()) #confirm the new columns were added in the order you like"
   ]
  },
  {
   "cell_type": "markdown",
   "id": "9f47ef28-9409-499b-b08c-a145a6e32db6",
   "metadata": {
    "jp-MarkdownHeadingCollapsed": true
   },
   "source": [
    "## Remove Patients with Missing Data"
   ]
  },
  {
   "cell_type": "code",
   "execution_count": 103,
   "id": "b12e36a3-f739-4736-855e-8491b2ef059d",
   "metadata": {},
   "outputs": [
    {
     "name": "stdout",
     "output_type": "stream",
     "text": [
      "Dropped  0  patients.\n"
     ]
    }
   ],
   "source": [
    "#Removal Criteria\n",
    "\n",
    "remove = []\n",
    "for index, patient in df.iterrows():\n",
    "\n",
    "    #Race - Unknown\n",
    "    if patient[\"Race Complete\"] == 'Unknown':\n",
    "        remove.append(index)\n",
    "        print(\"Remove patient \",index,\" - basis: race \",patient[\"Race Complete\"])\n",
    "    #Primary Method Payment - NaN\n",
    "    if str(patient['primarymethodpayment']) == 'nan':\n",
    "        remove.append(index)\n",
    "        print(\"Remove patient \",index,\" - basis: payment \",patient[\"primarymethodpayment\"])\n",
    "    #Sex - NaN\n",
    "    if str(patient['SEX']) == 'nan':\n",
    "        remove.append(index)\n",
    "        print(\"Remove patient \",index,\" - basis: SEX \",patient[\"SEX\"])\n",
    "    #eddischargedisposition - NaN\n",
    "    if str(patient['eddischargedisposition']) == 'nan':\n",
    "        remove.append(index)\n",
    "        print(\"Remove patient \",index,\" - basis: eddischargedisposition \",patient[\"eddischargedisposition\"])\n",
    "    #hospdischargedisposition - NaN\n",
    "    if str(patient['hospdischargedisposition']) == 'nan':\n",
    "        remove.append(index)\n",
    "        print(\"Remove patient \",index,\" - basis: hospdischargedisposition \",patient[\"hospdischargedisposition\"])\n",
    "\n",
    "    #Spinal Injury\n",
    "    LE_codes = csc(patient['LE_Dcode'])\n",
    "    for i in range(len(LE_codes)):\n",
    "        code = LE_codes[i]\n",
    "        if (\"S32.0\" in code or \"S32.1\" in code or \"S32.2\" in code): #ignore spine (not included in sharfman labels)\n",
    "            if index not in remove: \n",
    "                remove.append(index)\n",
    "    \n",
    "df = df.drop(index=remove)\n",
    "print(\"Dropped \",len(remove),\" patients. From \",N,\" to \",N-len(removed))\n",
    "\n"
   ]
  },
  {
   "cell_type": "code",
   "execution_count": 147,
   "id": "7336aef3-8d8f-4010-bf5b-2ee82d814858",
   "metadata": {},
   "outputs": [
    {
     "name": "stdout",
     "output_type": "stream",
     "text": [
      "['Other', 'White, Hispanic', 'White, non-Hispanic', 'Black or African American', 'Pacific Islander', 'American Indian', 'Unknown', 'Asian']\n",
      "['Medicare', 'Private/Commercial Insurance', 'Medicaid', 'Other Government', 'Self-Pay', 'Other', 'Not Billed (for any reason)', nan, 'Private/Commerical Insurance']\n",
      "['Female', 'Male', nan, '2.0', '1.0', 2.0, 1.0, 3.0]\n",
      "['Operating Room', 'Floor bed (general admission, non-specialty unit bed', 'Observation unit (unit that provides < 24 hour stays)', 'Telemetry/step-down unit (less acuity than ICU)', nan, 'Transferred to another hospital', 'Left against medical advice', 'Intensive Care Unit (ICU)', 'Deceased/expired', 'Other (jail, institutional care, mental health, etc.)', 'Home without services', 'Home with services', '7.0', '8.0', '1.0', '9.0', '11.0', '3.0', '2.0', '4.0', 1.0, 11.0, 3.0, 7.0, 2.0, 8.0, 5.0, 6.0, 9.0, 10.0, 4.0, '5.0', '6.0']\n",
      "['Discharged/Transferred to inpatient rehab or designated unit', 'Deceased/Expired', 'Discharged to home or self-care (routine discharge)', 'Discharged/Transferred to home under care of organized home health service', 'Discharged/Transferred to hospice care', 'Discharged/Transferred to Skilled Nursing Facility (SNF)', nan, 'Discharged/Transferred to Long Term Care Hospital (LTCH)', 'Discharged/Transferred to another type of institution not defined elsewhere', 'Discharged/Transferred to a short-term general hospital for inpatient care', 'Discharged/Transferred to an Intermediate Care Facility (ICF)', 'Left against medical advice or discontinued care', 'Discharged/Transferred to a psychiatric hospital or psychiatric distinct part unit of a hospital', 'Discharged/Transferred to court/law enforcement.', '11.0', '7.0', '3.0', '6.0', '5.0', '2.0', '1.0', '8.0', '4.0', '14.0', 7.0, 6.0, 8.0, 11.0, 3.0, 12.0, 5.0, 1.0, 14.0, 2.0, 4.0, 10.0, 13.0, '12.0', '13.0', '10.0', 'Deceased/expired']\n"
     ]
    }
   ],
   "source": [
    "#Check to make sure no nan or unknown\n",
    "print(list(df[\"Race Complete\"].unique()))\n",
    "print(list(df[\"primarymethodpayment\"].unique()))\n",
    "print(list(df[\"SEX\"].unique()))\n",
    "print(list(df[\"eddischargedisposition\"].unique()))\n",
    "print(list(df[\"hospdischargedisposition\"].unique()))"
   ]
  },
  {
   "cell_type": "markdown",
   "id": "c1303ce1-90fc-4b6b-8124-866111a4dc7a",
   "metadata": {
    "jp-MarkdownHeadingCollapsed": true
   },
   "source": [
    "## Assign T/F Values to Metadata Columns"
   ]
  },
  {
   "cell_type": "code",
   "execution_count": null,
   "id": "5b2e62ff-f441-4f06-9fab-32b7e30cfaaa",
   "metadata": {},
   "outputs": [],
   "source": [
    "#New Columns: Race, , Sex, Payment, days ICU, discharge to rehab\n",
    "\n",
    "for index, patient in df.iterrows():\n",
    "    \n",
    "    race = patient[\"Race Complete\"]\n",
    "    \n",
    "    if race == 'White, Hispanic':\n",
    "        df.loc[index,\"Race-White\"] = True\n",
    "        df.loc[index,\"Hispanic\"] = True\n",
    "    elif race == 'White, non-Hispanic':\n",
    "        df.loc[index,\"Race-White\"] = True\n",
    "        df.loc[index,\"Hispanic\"] = False\n",
    "    elif race == 'Black or African American':\n",
    "        df.loc[index,\"Race-Black\"] = True\n",
    "    elif race == 'Other' or race == \"Pacific Islander\" or race == \"American Indian\" or race == \"Asian\":\n",
    "        df.loc[index,\"Race-Other\"] = True\n",
    "\n",
    "    sex = patient[\"SEX\"]\n",
    "    \n",
    "    if sex == \"Male\" or sex == '1.0' or sex == 1:\n",
    "        df.loc[index,\"Sex-Male\"] = True\n",
    "    elif sex == \"Female\" or sex == '2.0' or sex == 2:\n",
    "        df.loc[index,\"Sex-Female\"] = True\n",
    "    elif sex == 3:\n",
    "        df.loc[index,\"Sex-Nonbinary\"] = True\n",
    "    elif str(patient['SEX']) != 'nan':\n",
    "        print(\"Could assign sex to patient \",index,\", sex - \",sex)\n",
    "    \n",
    "    payment = patient['primarymethodpayment']\n",
    "\n",
    "    if payment == 'Medicare':\n",
    "        df.loc[index,'Payment-Medicare'] = True\n",
    "    elif payment == 'Medicaid':\n",
    "        df.loc[index,'Payment-Medicaid'] = True\n",
    "    elif payment == 'Other Government':\n",
    "        df.loc[index,'Payment-Other Government'] = True\n",
    "    elif payment == 'Self-Pay':\n",
    "        df.loc[index,'Payment-Self-Pay'] = True\n",
    "    elif payment == 'Other':\n",
    "        df.loc[index,'Payment-Other'] = True\n",
    "    elif payment == 'Not Billed (for any reason)':\n",
    "        df.loc[index,'Payment-Not Billed (for any reason)'] = True\n",
    "    elif payment == \"Private/Commerical Insurance\" or payment == \"Private/Commercial Insurance\":\n",
    "        df.loc[index,\"Payment-Private/Commercial Insurance\"] = True\n",
    "\n",
    "    discharge = patient['hospdischargedisposition']\n",
    "\n",
    "    if (discharge == \"Discharged/Transferred to inpatient rehab or designated unit\") or (discharge == '11.0') or (discharge == 11): #or ('11' in discharge)\n",
    "        df.loc[index,\"discharge_to_rehab\"] = True\n",
    "        \n",
    "    icu_length = patient['totaliculos']\n",
    "    \n",
    "    if icu_length == '>3d':\n",
    "        df.loc[index,\"long_ICU\"] = True\n",
    "    elif icu_length == '<=3d':\n",
    "        df.loc[index,\"long_ICU\"] = False\n",
    "\n",
    "    #Any complications from deep ssi to ventilator associated pneumonia\n",
    "    df.loc[index,\"Any Complications\"]= anycomp(list(df.loc[index,\"Central Line-associated Bloodstream Infection\":\"Ventilator-Associated Pneumonia\"]))\n",
    "\n",
    "    #progressbar(index+1,N)"
   ]
  },
  {
   "cell_type": "markdown",
   "id": "74a8ef32-d2b6-4315-8ead-2df49fe47562",
   "metadata": {
    "jp-MarkdownHeadingCollapsed": true
   },
   "source": [
    "## Assign T/F Values to Diagnosis Columns based on icd10 codes"
   ]
  },
  {
   "cell_type": "code",
   "execution_count": 33,
   "id": "0daafb9b-27e5-4b0c-b931-a4eb84aa13c5",
   "metadata": {},
   "outputs": [
    {
     "name": "stdout",
     "output_type": "stream",
     "text": [
      "|████████████████████████████████████████████████████████████████████████████████████████████████████|100.61%\r"
     ]
    },
    {
     "name": "stderr",
     "output_type": "stream",
     "text": [
      "IOPub data rate exceeded.\n",
      "The Jupyter server will temporarily stop sending output\n",
      "to the client in order to avoid crashing it.\n",
      "To change this limit, set the config variable\n",
      "`--ServerApp.iopub_data_rate_limit`.\n",
      "\n",
      "Current values:\n",
      "ServerApp.iopub_data_rate_limit=1000000.0 (bytes/sec)\n",
      "ServerApp.rate_limit_window=3.0 (secs)\n",
      "\n"
     ]
    },
    {
     "name": "stdout",
     "output_type": "stream",
     "text": [
      "|██████████████████████████████████████████████████████████████████████████████████████████████████████|102.08%\r"
     ]
    }
   ],
   "source": [
    "#ICD10 codes to T/F diagnoses\n",
    "\n",
    "N = len(df)\n",
    "n_fall_same_level = 0\n",
    "n_fall = 0\n",
    "\n",
    "for index, patient in df.iterrows():\n",
    "\n",
    "    #Pull codes\n",
    "    LE_codes = csc(patient['LE_Dcode'])\n",
    "    if isinstance(patient['UE_Dcode'],str):\n",
    "        UE_codes = csc(patient['UE_Dcode'])\n",
    "    else:\n",
    "        UE_codes = []\n",
    "\n",
    "    #ILE,MLE,ULE Types\n",
    "    #if   len(LE_codes) >= 1 and len(UE_codes) >= 1:\n",
    "    #    fracture_type  = \"ULE\"\n",
    "    #    df.loc[index,\"ULE\"] = True\n",
    "    #elif len(LE_codes) >  1 and len(UE_codes) == 0:\n",
    "    #    fracture_type  = \"MLE\"\n",
    "    #    df.loc[index,\"MLE\"] = True\n",
    "    #elif len(LE_codes) == 1 and len(UE_codes) == 0:\n",
    "    #    fracture_type  = \"ILE\"\n",
    "    #    df.loc[index,\"ILE\"] = True\n",
    "    #    if patient['Fracture Type'] != \"ILE\": #so far no disagreements!\n",
    "    #        print(\"ILE disaggreement for patient \",index,\", LE codes: \",patient['LE_Dcode'],\", UE codes: \",patient['UE_Dcode'],\", fracture type: \",patient['Fracture Type'])\n",
    "    #        break\n",
    "    #else: #so far not an issue!\n",
    "    #    print(\"couldn't assign fracture type to patient \",index,\", LE codes: \",patient['LE_Dcode'],\", UE codes: \",patient['UE_Dcode'])\n",
    "    #    break\n",
    "\n",
    "    #Decode LE ICD10s and assign trues to appropriate columns\n",
    "    for i in range(len(LE_codes)):\n",
    "        code = LE_codes[i]\n",
    "        #if (\"S32.0\" in code or \"S32.1\" in code or \"S32.2\" in code): #ignore spine (not included in sharfman labels)\n",
    "        #    continue\n",
    "        try:\n",
    "            search = code\n",
    "            diagnosis = LE_dict[search]\n",
    "        except:\n",
    "            try: \n",
    "                search = code[:7]\n",
    "                diagnosis = LE_dict[search]\n",
    "            except: \n",
    "                try:\n",
    "                    search = code[:6]\n",
    "                    diagnosis = LE_dict[search]\n",
    "                except:\n",
    "                    try: \n",
    "                        search = code[:5]\n",
    "                        diagnosis = LE_dict[search]\n",
    "                    except:\n",
    "                        try:\n",
    "                            search = code[:3]\n",
    "                            diagnosis = LE_dict[search]\n",
    "                        except:\n",
    "                            print(\"Cant match a diagnosis to this code! - LE \",code)\n",
    "        #patient[diagnosis] = True\n",
    "        df.loc[index,diagnosis] = True\n",
    "\n",
    "    #Decode UE ICD10s and assign trues to appropriate columns\n",
    "    for i in range(len(UE_codes)):\n",
    "        code = UE_codes[i]\n",
    "        try: \n",
    "            search = code[:5]\n",
    "            diagnosis = UE_dict[search]\n",
    "        except:\n",
    "            try:\n",
    "                search = code[:3]\n",
    "                diagnosis = UE_dict[search]\n",
    "            except:\n",
    "                print(\"Cant match a diagnosis to this code! - UE \",code)\n",
    "        df.loc[index,diagnosis] = True\n",
    "\n",
    "    #Decode mechanism code\n",
    "    w_code = patient['primaryecodeicd10']\n",
    "    try: \n",
    "        search = w_code[:5]\n",
    "        df.loc[index,\"fall on same level - other\"] = fall_same_level_dict[search]\n",
    "        df.loc[index,\"any fall\"] = fall_dict[search]\n",
    "        n_fall_same_level += fall_same_level_dict[search]\n",
    "        n_fall += fall_dict[search]\n",
    "    except:\n",
    "        try:\n",
    "            search = w_code[:3]\n",
    "            df.loc[index,\"fall on same level - other\"] = fall_same_level_dict[search]\n",
    "            df.loc[index,\"any fall\"] = fall_dict[search]\n",
    "            n_fall_same_level += fall_same_level_dict[search]\n",
    "            n_fall += fall_dict[search]\n",
    "        except:\n",
    "            #catch any weird fall from or fall ons that have icd10 codes that dont start with W (those in dictionaries)\n",
    "            if \"all from\" in icd10.find(w_code).description or \"all on\" in icd10.find(w_code).description:\n",
    "                df.loc[index,\"any fall\"] = True\n",
    "                n_fall += fall_dict[search]\n",
    "            continue\n",
    "\n",
    "    #progressbar(index+1,N)\n",
    "    #print(LE_codes,UE_codes)"
   ]
  },
  {
   "cell_type": "code",
   "execution_count": 163,
   "id": "cc901559-716e-42ab-96ba-f321979c4bf1",
   "metadata": {},
   "outputs": [
    {
     "name": "stdout",
     "output_type": "stream",
     "text": [
      "395207 685873\n"
     ]
    }
   ],
   "source": [
    "print(n_fall_same_level, n_fall)"
   ]
  },
  {
   "cell_type": "markdown",
   "id": "2b1db218-e814-4705-b628-7c87e0756571",
   "metadata": {
    "jp-MarkdownHeadingCollapsed": true
   },
   "source": [
    "### Check for Correct Assignment "
   ]
  },
  {
   "cell_type": "code",
   "execution_count": 37,
   "id": "db2634ca-7964-452c-97ff-1cc2065f0623",
   "metadata": {},
   "outputs": [
    {
     "data": {
      "text/plain": [
       "'S32.058A,S32.811A'"
      ]
     },
     "execution_count": 37,
     "metadata": {},
     "output_type": "execute_result"
    }
   ],
   "source": [
    "df.loc[766902,'LE_Dcode']"
   ]
  },
  {
   "cell_type": "code",
   "execution_count": 45,
   "id": "74eed8b1-98dd-476b-9ae0-ce0a4c743a9a",
   "metadata": {},
   "outputs": [
    {
     "data": {
      "text/plain": [
       "'S92.352A,S82.235A,S82.432A,S82.234A,S82.431A'"
      ]
     },
     "execution_count": 45,
     "metadata": {},
     "output_type": "execute_result"
    }
   ],
   "source": [
    "df.loc[4,'LE_Dcode']"
   ]
  },
  {
   "cell_type": "code",
   "execution_count": 39,
   "id": "772425a0-165d-4ee6-9adf-ec1037c76fbf",
   "metadata": {},
   "outputs": [
    {
     "data": {
      "text/plain": [
       "True"
      ]
     },
     "execution_count": 39,
     "metadata": {},
     "output_type": "execute_result"
    }
   ],
   "source": [
    "df.loc[766902,'Fracture of pelvis multiple w/ disruption of pelvic circle']"
   ]
  },
  {
   "cell_type": "code",
   "execution_count": 41,
   "id": "c86692f2-3f6d-415a-98cd-ae2afef83e26",
   "metadata": {},
   "outputs": [
    {
     "data": {
      "text/plain": [
       "True"
      ]
     },
     "execution_count": 41,
     "metadata": {},
     "output_type": "execute_result"
    }
   ],
   "source": [
    "df.loc[766902,'Fracture of radius and ulna']"
   ]
  },
  {
   "cell_type": "code",
   "execution_count": 43,
   "id": "d4e6d510-4cdb-4d31-920f-58dfadf113fe",
   "metadata": {},
   "outputs": [
    {
     "data": {
      "text/plain": [
       "True"
      ]
     },
     "execution_count": 43,
     "metadata": {},
     "output_type": "execute_result"
    }
   ],
   "source": [
    "df.iloc[4]['Fracture of tibia and fibula']"
   ]
  },
  {
   "cell_type": "markdown",
   "id": "0fa930ba-795d-4faf-8639-ea702cd98177",
   "metadata": {
    "jp-MarkdownHeadingCollapsed": true
   },
   "source": [
    "## Export cleaned dataset as csv"
   ]
  },
  {
   "cell_type": "code",
   "execution_count": 39,
   "id": "bae1be7f-d74b-4e38-936c-c979c6ab5edd",
   "metadata": {},
   "outputs": [
    {
     "name": "stdout",
     "output_type": "stream",
     "text": [
      "['inc_key', 'LE_Dcode', 'UE_Dcode', 'Fracture Type', 'Fracture of acetabulum', 'Fracture of pubis', 'Fracture of ilium', 'Fracture of ischium', 'Fracture of pelvis multiple w/ disruption of pelvic circle', 'Fracture of pelvis without disruption of pelvic circle', 'Fracture of pelvis, other', 'Fracture of femoral neck', 'Fracture of other parts of femur', 'Fracture of patella', 'Fracture of tibia and fibula', 'Fracture of ankle', 'Fracture of LE, other', 'Fracture of clavicle', 'Fracture of scapula', 'Fracture of humerus', 'Fracture of radius and ulna', 'Fracture of Carpal bones', 'Fracture of UE, other', 'TEACHINGSTATUS', 'HOSPITALTYPE', 'Race Complete', 'Race-White', 'Race-Black', 'Race-Other', 'Hispanic', 'BEDSIZE', 'VERIFICATIONLEVEL', 'SEX', 'Sex-Male', 'Sex-Female', 'Sex-Nonbinary', 'GCS', 'primaryecodeicd10', 'fall on same level - other', 'any fall', 'ecode_desc', 'mechanism', 'ISS', 'primarymethodpayment', 'Payment-Medicare', 'Payment-Private/Commercial Insurance', 'Payment-Medicaid', 'Payment-Other Government', 'Payment-Self-Pay', 'Payment-Other', 'Payment-Not Billed (for any reason)', 'eddischargedisposition', 'hospdischargedisposition', 'discharge_to_rehab', 'totaliculos', 'long_ICU', 'finaldischargedays', 'Attention Deficit Hyperactivity Disorder', 'Advanced Directive Limiting Care', 'Alcohol Use Disorder', 'Angina Pectoris', 'Anticoagulant Therapy', 'Bleeding Disorder', 'Currently Receiving Chemotherapy for Cancer', 'Cirrhosis', 'Congenital Anomalies', 'Chronic Obstructive Pulmonary Disease', 'Cerebrovascular Accident', 'Dementia', 'Diabetes Mellitus', 'Disseminated Cancer', 'Functionaly Dependent Health Status', 'Congestive Heart Failure', 'Hypertension', 'Myocardial Infarction_pc', 'Other_pc', 'Peripheral Arterial Disease', 'Prematurity', 'Mental/Personality Disorder', 'Chronic Renal Failure', 'Current Smoker', 'Steroid Use', 'Substance Abuse Disorder', 'Central Line-associated Bloodstream Infection', 'Deep Surgical Site Infection', 'Deep Vein Thrombosis', 'Alcohol Withdrawal Syndrome', 'Cardiac Arrest', 'Catheter-Associated Urinary Tract Infection', 'Pulmonary Embolism', 'Extremity Compartment Syndrome', 'Unplanned Intubation', 'Acute Kidney Injury', 'Myocardial Infarction_hc', 'Organ/Space SSI', 'Osteomyelitis', 'Other_hc', 'ARDS', 'Unplanned Visit to OR', 'Severe Sepsis', 'Stroke/CVA', 'Superficial Incisional SSI', 'Pressure Ulcer', 'Unplanned admission to ICU', 'Ventilator-Associated Pneumonia', 'Any Complication', 'Bedsize', 'iss', 'Pregnancy', 'Bipolar I/II Disorder', 'Major Depressive Disorder', 'Other Mental/Personality Disorder', 'Post-Traumatic Stress Disorder', 'Schizoaffective Disorder', 'Schizophrenia', 'Delirium', 'mFI_5']\n"
     ]
    }
   ],
   "source": [
    "# Check all the columns you want are there\n",
    "print(df.columns.tolist())"
   ]
  },
  {
   "cell_type": "code",
   "execution_count": 41,
   "id": "4720b274-33c4-462e-8185-cd9e2cbf7010",
   "metadata": {},
   "outputs": [],
   "source": [
    "df.to_csv(\"cleaned_data_VR.csv\", index=False)"
   ]
  },
  {
   "cell_type": "markdown",
   "id": "2fe7c73a-489f-4fe1-95c6-ea5991f8d428",
   "metadata": {
    "jp-MarkdownHeadingCollapsed": true
   },
   "source": [
    "## Misc Code for Debugging and Querying"
   ]
  },
  {
   "cell_type": "code",
   "execution_count": null,
   "id": "850dd3bb-1d45-410c-b94b-e29d30cd172b",
   "metadata": {},
   "outputs": [],
   "source": [
    "#Look up a code \n",
    "print(icd10.find(\"S32.1\").description)\n",
    "\n",
    "#Look up codes for a list of codes\n",
    "current = sorted(find_unique_codes(list(df['LE_Dcode'].unique()),\"S32\",5))\n",
    "print(current)\n",
    "print_diagnoses(current)\n",
    "\n",
    "#Find which codes don't have periods\n",
    "current = sorted(find_unique_codes(list(df['LE_Dcode'].unique()),\"S\"))\n",
    "for i in range(len(current)):\n",
    "    if not \".\" in current[i]:\n",
    "        print(current[i])\n",
    "\n",
    "#print(sorted(find_unique_codes(list(df['LE_Dcode'].unique()),\"S\",3)))\n",
    "#print(sorted(find_unique_codes(list(df['LE_Dcode'].unique()),\"S72.0\",7)))\n",
    "#print(sorted(find_unique_codes(list(df['UE_Dcode'].unique()),\"S\",3)))\n",
    "#print(sorted(find_unique_codes(list(df['UE_Dcode'].unique()),\"S\",5)))\n",
    "\n",
    "#print(list(df['Race Complete'].unique()))\n",
    "#n=77777\n",
    "#print(df.loc[n,'Race Complete'])\n",
    "#print(df.loc[n,'Race Filtered'])\n",
    "\n",
    "#print(list(df['SEX'].unique()))\n",
    "#print(list(df['Race Complete'].unique()))\n",
    "#print(list(df['primarymethodpayment'].unique()))\n",
    "\n",
    "#str(list(df['SEX'].unique())[2]) == 'nan'\n",
    "#str(list(df['primarymethodpayment'].unique())[7] ) == 'nan'\n",
    "#df.loc[df[\"Race Complete\"] == \"Other\"][[\"Race Complete\",\"Race-White\",\"Race-Black\",\"Race-Other\",\"Hispanic\"]]\n",
    "\n",
    "#print(sorted(list(df['GCS'].unique())))\n",
    "\n",
    "#current = sorted(find_unique_codes(list(df['primaryecodeicd10'].unique()),\"Y31\",8))\n",
    "#print_diagnoses(current)\n",
    "\n",
    "#names=['Deep Vein Thrombosis','Alcohol Withdrawal Syndrome','Cardiac Arrest','Catheter-Associated Urinary Tract Infection',\n",
    "#       'Pulmonary Embolism','Extremity Compartment Syndrome','Unplanned Intubation','Acute Kidney Injury','Myocardial Infarction_hc',\n",
    "#       'Organ/Space SSI','Osteomyelitis','Other_hc','ARDS','Unplanned Visit to OR','Severe Sepsis','Stroke/CVA',\n",
    "#       'Superficial Incisional SSI','Pressure Ulcer','Unplanned admission to ICU','Ventilator-Associated Pneumonia']\n",
    "#for i in names:\n",
    "#    print(list(df[i].unique()))"
   ]
  },
  {
   "cell_type": "code",
   "execution_count": 57,
   "id": "cab33c20-a784-4977-b126-6ec9d9471c06",
   "metadata": {},
   "outputs": [
    {
     "data": {
      "text/plain": [
       "True"
      ]
     },
     "execution_count": 57,
     "metadata": {},
     "output_type": "execute_result"
    }
   ],
   "source": [
    "\"all from\" in icd10.find(\"V00.181A\").description"
   ]
  }
 ],
 "metadata": {
  "kernelspec": {
   "display_name": "Python 3 (ipykernel)",
   "language": "python",
   "name": "python3"
  },
  "language_info": {
   "codemirror_mode": {
    "name": "ipython",
    "version": 3
   },
   "file_extension": ".py",
   "mimetype": "text/x-python",
   "name": "python",
   "nbconvert_exporter": "python",
   "pygments_lexer": "ipython3",
   "version": "3.12.4"
  }
 },
 "nbformat": 4,
 "nbformat_minor": 5
}
